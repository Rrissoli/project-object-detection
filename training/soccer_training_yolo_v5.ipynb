{
 "cells": [
  {
   "cell_type": "code",
   "execution_count": 2,
   "metadata": {},
   "outputs": [
    {
     "name": "stdout",
     "output_type": "stream",
     "text": [
      "Requirement already satisfied: ultralytics in c:\\users\\rapha\\appdata\\local\\programs\\python\\python310\\lib\\site-packages (8.0.26)\n",
      "Requirement already satisfied: PyYAML>=5.3.1 in c:\\users\\rapha\\appdata\\local\\programs\\python\\python310\\lib\\site-packages (from ultralytics) (6.0.2)\n",
      "Requirement already satisfied: psutil in c:\\users\\rapha\\appdata\\local\\programs\\python\\python310\\lib\\site-packages (from ultralytics) (6.1.0)\n",
      "Requirement already satisfied: sentry-sdk in c:\\users\\rapha\\appdata\\local\\programs\\python\\python310\\lib\\site-packages (from ultralytics) (2.18.0)\n",
      "Requirement already satisfied: torchvision>=0.8.1 in c:\\users\\rapha\\appdata\\local\\programs\\python\\python310\\lib\\site-packages (from ultralytics) (0.20.1)\n",
      "Requirement already satisfied: numpy>=1.18.5 in c:\\users\\rapha\\appdata\\local\\programs\\python\\python310\\lib\\site-packages (from ultralytics) (2.1.3)\n",
      "Requirement already satisfied: matplotlib>=3.2.2 in c:\\users\\rapha\\appdata\\local\\programs\\python\\python310\\lib\\site-packages (from ultralytics) (3.9.2)\n",
      "Requirement already satisfied: opencv-python>=4.6.0 in c:\\users\\rapha\\appdata\\local\\programs\\python\\python310\\lib\\site-packages (from ultralytics) (4.8.1.78)\n",
      "Requirement already satisfied: torch>=1.7.0 in c:\\users\\rapha\\appdata\\local\\programs\\python\\python310\\lib\\site-packages (from ultralytics) (2.5.1)\n",
      "Requirement already satisfied: pandas>=1.1.4 in c:\\users\\rapha\\appdata\\local\\programs\\python\\python310\\lib\\site-packages (from ultralytics) (2.2.3)\n",
      "Requirement already satisfied: scipy>=1.4.1 in c:\\users\\rapha\\appdata\\local\\programs\\python\\python310\\lib\\site-packages (from ultralytics) (1.14.1)\n",
      "Requirement already satisfied: ipython in c:\\users\\rapha\\appdata\\local\\programs\\python\\python310\\lib\\site-packages (from ultralytics) (8.29.0)\n",
      "Requirement already satisfied: Pillow>=7.1.2 in c:\\users\\rapha\\appdata\\local\\programs\\python\\python310\\lib\\site-packages (from ultralytics) (11.0.0)\n",
      "Requirement already satisfied: thop>=0.1.1 in c:\\users\\rapha\\appdata\\local\\programs\\python\\python310\\lib\\site-packages (from ultralytics) (0.1.1.post2209072238)\n",
      "Requirement already satisfied: requests>=2.23.0 in c:\\users\\rapha\\appdata\\local\\programs\\python\\python310\\lib\\site-packages (from ultralytics) (2.32.3)\n",
      "Requirement already satisfied: tqdm>=4.64.0 in c:\\users\\rapha\\appdata\\local\\programs\\python\\python310\\lib\\site-packages (from ultralytics) (4.67.0)\n",
      "Requirement already satisfied: seaborn>=0.11.0 in c:\\users\\rapha\\appdata\\local\\programs\\python\\python310\\lib\\site-packages (from ultralytics) (0.13.2)\n",
      "Requirement already satisfied: tensorboard>=2.4.1 in c:\\users\\rapha\\appdata\\local\\programs\\python\\python310\\lib\\site-packages (from ultralytics) (2.18.0)\n",
      "Requirement already satisfied: kiwisolver>=1.3.1 in c:\\users\\rapha\\appdata\\local\\programs\\python\\python310\\lib\\site-packages (from matplotlib>=3.2.2->ultralytics) (1.4.7)\n",
      "Requirement already satisfied: packaging>=20.0 in c:\\users\\rapha\\appdata\\local\\programs\\python\\python310\\lib\\site-packages (from matplotlib>=3.2.2->ultralytics) (24.2)\n",
      "Requirement already satisfied: cycler>=0.10 in c:\\users\\rapha\\appdata\\local\\programs\\python\\python310\\lib\\site-packages (from matplotlib>=3.2.2->ultralytics) (0.12.1)\n",
      "Requirement already satisfied: fonttools>=4.22.0 in c:\\users\\rapha\\appdata\\local\\programs\\python\\python310\\lib\\site-packages (from matplotlib>=3.2.2->ultralytics) (4.55.0)\n",
      "Requirement already satisfied: contourpy>=1.0.1 in c:\\users\\rapha\\appdata\\local\\programs\\python\\python310\\lib\\site-packages (from matplotlib>=3.2.2->ultralytics) (1.3.1)\n",
      "Requirement already satisfied: pyparsing>=2.3.1 in c:\\users\\rapha\\appdata\\local\\programs\\python\\python310\\lib\\site-packages (from matplotlib>=3.2.2->ultralytics) (3.2.0)\n",
      "Requirement already satisfied: python-dateutil>=2.7 in c:\\users\\rapha\\appdata\\local\\programs\\python\\python310\\lib\\site-packages (from matplotlib>=3.2.2->ultralytics) (2.9.0.post0)\n",
      "Requirement already satisfied: tzdata>=2022.7 in c:\\users\\rapha\\appdata\\local\\programs\\python\\python310\\lib\\site-packages (from pandas>=1.1.4->ultralytics) (2024.2)\n",
      "Requirement already satisfied: pytz>=2020.1 in c:\\users\\rapha\\appdata\\local\\programs\\python\\python310\\lib\\site-packages (from pandas>=1.1.4->ultralytics) (2024.2)\n",
      "Requirement already satisfied: urllib3<3,>=1.21.1 in c:\\users\\rapha\\appdata\\local\\programs\\python\\python310\\lib\\site-packages (from requests>=2.23.0->ultralytics) (2.2.3)\n",
      "Requirement already satisfied: idna<4,>=2.5 in c:\\users\\rapha\\appdata\\local\\programs\\python\\python310\\lib\\site-packages (from requests>=2.23.0->ultralytics) (3.7)\n",
      "Requirement already satisfied: certifi>=2017.4.17 in c:\\users\\rapha\\appdata\\local\\programs\\python\\python310\\lib\\site-packages (from requests>=2.23.0->ultralytics) (2024.8.30)\n",
      "Requirement already satisfied: charset-normalizer<4,>=2 in c:\\users\\rapha\\appdata\\local\\programs\\python\\python310\\lib\\site-packages (from requests>=2.23.0->ultralytics) (3.4.0)\n",
      "Requirement already satisfied: absl-py>=0.4 in c:\\users\\rapha\\appdata\\local\\programs\\python\\python310\\lib\\site-packages (from tensorboard>=2.4.1->ultralytics) (2.1.0)\n",
      "Requirement already satisfied: six>1.9 in c:\\users\\rapha\\appdata\\local\\programs\\python\\python310\\lib\\site-packages (from tensorboard>=2.4.1->ultralytics) (1.16.0)\n",
      "Requirement already satisfied: protobuf!=4.24.0,>=3.19.6 in c:\\users\\rapha\\appdata\\local\\programs\\python\\python310\\lib\\site-packages (from tensorboard>=2.4.1->ultralytics) (5.28.3)\n",
      "Requirement already satisfied: tensorboard-data-server<0.8.0,>=0.7.0 in c:\\users\\rapha\\appdata\\local\\programs\\python\\python310\\lib\\site-packages (from tensorboard>=2.4.1->ultralytics) (0.7.2)\n",
      "Requirement already satisfied: markdown>=2.6.8 in c:\\users\\rapha\\appdata\\local\\programs\\python\\python310\\lib\\site-packages (from tensorboard>=2.4.1->ultralytics) (3.7)\n",
      "Requirement already satisfied: setuptools>=41.0.0 in c:\\users\\rapha\\appdata\\local\\programs\\python\\python310\\lib\\site-packages (from tensorboard>=2.4.1->ultralytics) (65.5.0)\n",
      "Requirement already satisfied: werkzeug>=1.0.1 in c:\\users\\rapha\\appdata\\local\\programs\\python\\python310\\lib\\site-packages (from tensorboard>=2.4.1->ultralytics) (3.1.3)\n",
      "Requirement already satisfied: grpcio>=1.48.2 in c:\\users\\rapha\\appdata\\local\\programs\\python\\python310\\lib\\site-packages (from tensorboard>=2.4.1->ultralytics) (1.68.0)\n",
      "Requirement already satisfied: jinja2 in c:\\users\\rapha\\appdata\\local\\programs\\python\\python310\\lib\\site-packages (from torch>=1.7.0->ultralytics) (3.1.4)\n",
      "Requirement already satisfied: filelock in c:\\users\\rapha\\appdata\\local\\programs\\python\\python310\\lib\\site-packages (from torch>=1.7.0->ultralytics) (3.16.1)\n",
      "Requirement already satisfied: sympy==1.13.1 in c:\\users\\rapha\\appdata\\local\\programs\\python\\python310\\lib\\site-packages (from torch>=1.7.0->ultralytics) (1.13.1)\n",
      "Requirement already satisfied: fsspec in c:\\users\\rapha\\appdata\\local\\programs\\python\\python310\\lib\\site-packages (from torch>=1.7.0->ultralytics) (2024.10.0)\n",
      "Requirement already satisfied: typing-extensions>=4.8.0 in c:\\users\\rapha\\appdata\\local\\programs\\python\\python310\\lib\\site-packages (from torch>=1.7.0->ultralytics) (4.12.2)\n",
      "Requirement already satisfied: networkx in c:\\users\\rapha\\appdata\\local\\programs\\python\\python310\\lib\\site-packages (from torch>=1.7.0->ultralytics) (3.4.2)\n",
      "Requirement already satisfied: mpmath<1.4,>=1.1.0 in c:\\users\\rapha\\appdata\\local\\programs\\python\\python310\\lib\\site-packages (from sympy==1.13.1->torch>=1.7.0->ultralytics) (1.3.0)\n",
      "Requirement already satisfied: colorama in c:\\users\\rapha\\appdata\\local\\programs\\python\\python310\\lib\\site-packages (from tqdm>=4.64.0->ultralytics) (0.4.6)\n",
      "Requirement already satisfied: stack-data in c:\\users\\rapha\\appdata\\local\\programs\\python\\python310\\lib\\site-packages (from ipython->ultralytics) (0.6.3)\n",
      "Requirement already satisfied: pygments>=2.4.0 in c:\\users\\rapha\\appdata\\local\\programs\\python\\python310\\lib\\site-packages (from ipython->ultralytics) (2.18.0)\n",
      "Requirement already satisfied: prompt-toolkit<3.1.0,>=3.0.41 in c:\\users\\rapha\\appdata\\local\\programs\\python\\python310\\lib\\site-packages (from ipython->ultralytics) (3.0.48)\n",
      "Requirement already satisfied: matplotlib-inline in c:\\users\\rapha\\appdata\\local\\programs\\python\\python310\\lib\\site-packages (from ipython->ultralytics) (0.1.7)\n",
      "Requirement already satisfied: decorator in c:\\users\\rapha\\appdata\\local\\programs\\python\\python310\\lib\\site-packages (from ipython->ultralytics) (5.1.1)\n",
      "Requirement already satisfied: exceptiongroup in c:\\users\\rapha\\appdata\\local\\programs\\python\\python310\\lib\\site-packages (from ipython->ultralytics) (1.2.2)\n",
      "Requirement already satisfied: jedi>=0.16 in c:\\users\\rapha\\appdata\\local\\programs\\python\\python310\\lib\\site-packages (from ipython->ultralytics) (0.19.2)\n",
      "Requirement already satisfied: traitlets>=5.13.0 in c:\\users\\rapha\\appdata\\local\\programs\\python\\python310\\lib\\site-packages (from ipython->ultralytics) (5.14.3)\n",
      "Requirement already satisfied: parso<0.9.0,>=0.8.4 in c:\\users\\rapha\\appdata\\local\\programs\\python\\python310\\lib\\site-packages (from jedi>=0.16->ipython->ultralytics) (0.8.4)\n",
      "Requirement already satisfied: wcwidth in c:\\users\\rapha\\appdata\\local\\programs\\python\\python310\\lib\\site-packages (from prompt-toolkit<3.1.0,>=3.0.41->ipython->ultralytics) (0.2.13)\n",
      "Requirement already satisfied: MarkupSafe>=2.1.1 in c:\\users\\rapha\\appdata\\local\\programs\\python\\python310\\lib\\site-packages (from werkzeug>=1.0.1->tensorboard>=2.4.1->ultralytics) (3.0.2)\n",
      "Requirement already satisfied: asttokens>=2.1.0 in c:\\users\\rapha\\appdata\\local\\programs\\python\\python310\\lib\\site-packages (from stack-data->ipython->ultralytics) (2.4.1)\n",
      "Requirement already satisfied: executing>=1.2.0 in c:\\users\\rapha\\appdata\\local\\programs\\python\\python310\\lib\\site-packages (from stack-data->ipython->ultralytics) (2.1.0)\n",
      "Requirement already satisfied: pure-eval in c:\\users\\rapha\\appdata\\local\\programs\\python\\python310\\lib\\site-packages (from stack-data->ipython->ultralytics) (0.2.3)\n"
     ]
    },
    {
     "name": "stderr",
     "output_type": "stream",
     "text": [
      "\n",
      "[notice] A new release of pip available: 22.3.1 -> 24.3.1\n",
      "[notice] To update, run: python.exe -m pip install --upgrade pip\n"
     ]
    },
    {
     "name": "stdout",
     "output_type": "stream",
     "text": [
      "Requirement already satisfied: roboflow in c:\\users\\rapha\\appdata\\local\\programs\\python\\python310\\lib\\site-packages (1.1.49)\n",
      "Requirement already satisfied: opencv-python-headless==4.10.0.84 in c:\\users\\rapha\\appdata\\local\\programs\\python\\python310\\lib\\site-packages (from roboflow) (4.10.0.84)\n",
      "Requirement already satisfied: Pillow>=7.1.2 in c:\\users\\rapha\\appdata\\local\\programs\\python\\python310\\lib\\site-packages (from roboflow) (11.0.0)\n",
      "Requirement already satisfied: kiwisolver>=1.3.1 in c:\\users\\rapha\\appdata\\local\\programs\\python\\python310\\lib\\site-packages (from roboflow) (1.4.7)\n",
      "Requirement already satisfied: requests in c:\\users\\rapha\\appdata\\local\\programs\\python\\python310\\lib\\site-packages (from roboflow) (2.32.3)\n",
      "Requirement already satisfied: tqdm>=4.41.0 in c:\\users\\rapha\\appdata\\local\\programs\\python\\python310\\lib\\site-packages (from roboflow) (4.67.0)\n",
      "Requirement already satisfied: requests-toolbelt in c:\\users\\rapha\\appdata\\local\\programs\\python\\python310\\lib\\site-packages (from roboflow) (1.0.0)\n",
      "Requirement already satisfied: six in c:\\users\\rapha\\appdata\\local\\programs\\python\\python310\\lib\\site-packages (from roboflow) (1.16.0)\n",
      "Requirement already satisfied: idna==3.7 in c:\\users\\rapha\\appdata\\local\\programs\\python\\python310\\lib\\site-packages (from roboflow) (3.7)\n",
      "Requirement already satisfied: certifi in c:\\users\\rapha\\appdata\\local\\programs\\python\\python310\\lib\\site-packages (from roboflow) (2024.8.30)\n",
      "Requirement already satisfied: filetype in c:\\users\\rapha\\appdata\\local\\programs\\python\\python310\\lib\\site-packages (from roboflow) (1.2.0)\n",
      "Requirement already satisfied: python-dateutil in c:\\users\\rapha\\appdata\\local\\programs\\python\\python310\\lib\\site-packages (from roboflow) (2.9.0.post0)\n",
      "Requirement already satisfied: urllib3>=1.26.6 in c:\\users\\rapha\\appdata\\local\\programs\\python\\python310\\lib\\site-packages (from roboflow) (2.2.3)\n",
      "Requirement already satisfied: PyYAML>=5.3.1 in c:\\users\\rapha\\appdata\\local\\programs\\python\\python310\\lib\\site-packages (from roboflow) (6.0.2)\n",
      "Requirement already satisfied: cycler in c:\\users\\rapha\\appdata\\local\\programs\\python\\python310\\lib\\site-packages (from roboflow) (0.12.1)\n",
      "Requirement already satisfied: python-dotenv in c:\\users\\rapha\\appdata\\local\\programs\\python\\python310\\lib\\site-packages (from roboflow) (1.0.1)\n",
      "Requirement already satisfied: matplotlib in c:\\users\\rapha\\appdata\\local\\programs\\python\\python310\\lib\\site-packages (from roboflow) (3.9.2)\n",
      "Requirement already satisfied: numpy>=1.18.5 in c:\\users\\rapha\\appdata\\local\\programs\\python\\python310\\lib\\site-packages (from roboflow) (2.1.3)\n",
      "Requirement already satisfied: colorama in c:\\users\\rapha\\appdata\\local\\programs\\python\\python310\\lib\\site-packages (from tqdm>=4.41.0->roboflow) (0.4.6)\n",
      "Requirement already satisfied: contourpy>=1.0.1 in c:\\users\\rapha\\appdata\\local\\programs\\python\\python310\\lib\\site-packages (from matplotlib->roboflow) (1.3.1)\n",
      "Requirement already satisfied: packaging>=20.0 in c:\\users\\rapha\\appdata\\local\\programs\\python\\python310\\lib\\site-packages (from matplotlib->roboflow) (24.2)\n",
      "Requirement already satisfied: pyparsing>=2.3.1 in c:\\users\\rapha\\appdata\\local\\programs\\python\\python310\\lib\\site-packages (from matplotlib->roboflow) (3.2.0)\n",
      "Requirement already satisfied: fonttools>=4.22.0 in c:\\users\\rapha\\appdata\\local\\programs\\python\\python310\\lib\\site-packages (from matplotlib->roboflow) (4.55.0)\n",
      "Requirement already satisfied: charset-normalizer<4,>=2 in c:\\users\\rapha\\appdata\\local\\programs\\python\\python310\\lib\\site-packages (from requests->roboflow) (3.4.0)\n"
     ]
    },
    {
     "name": "stderr",
     "output_type": "stream",
     "text": [
      "\n",
      "[notice] A new release of pip available: 22.3.1 -> 24.3.1\n",
      "[notice] To update, run: python.exe -m pip install --upgrade pip\n"
     ]
    }
   ],
   "source": [
    "!pip install ultralytics\n",
    "!pip install roboflow"
   ]
  },
  {
   "cell_type": "markdown",
   "metadata": {},
   "source": [
    "# Get Dataset"
   ]
  },
  {
   "cell_type": "code",
   "execution_count": 3,
   "metadata": {},
   "outputs": [
    {
     "name": "stdout",
     "output_type": "stream",
     "text": [
      "loading Roboflow workspace...\n",
      "loading Roboflow project...\n"
     ]
    },
    {
     "name": "stderr",
     "output_type": "stream",
     "text": [
      "Downloading Dataset Version Zip in football-players-detection-1 to yolov5pytorch:: 100%|██████████| 148663/148663 [00:14<00:00, 10618.02it/s]"
     ]
    },
    {
     "name": "stdout",
     "output_type": "stream",
     "text": [
      "\n"
     ]
    },
    {
     "name": "stderr",
     "output_type": "stream",
     "text": [
      "\n",
      "Extracting Dataset Version Zip to football-players-detection-1 in yolov5pytorch:: 100%|██████████| 1338/1338 [00:01<00:00, 1027.91it/s]\n"
     ]
    }
   ],
   "source": [
    "from roboflow import Roboflow\n",
    "rf = Roboflow(api_key=\"D8iOXRIFx1AyQtmhbmlj\")\n",
    "project = rf.workspace(\"roboflow-jvuqo\").project(\"football-players-detection-3zvbc\")\n",
    "version = project.version(1)\n",
    "dataset = version.download(\"yolov5\")\n",
    "                "
   ]
  },
  {
   "cell_type": "code",
   "execution_count": 8,
   "metadata": {},
   "outputs": [
    {
     "data": {
      "text/plain": [
       "'c:\\\\Users\\\\rapha\\\\Desktop\\\\models-ML\\\\project-object-detection\\\\training\\\\football-players-detection-1'"
      ]
     },
     "execution_count": 8,
     "metadata": {},
     "output_type": "execute_result"
    }
   ],
   "source": [
    "dataset.location"
   ]
  },
  {
   "cell_type": "code",
   "execution_count": 13,
   "metadata": {},
   "outputs": [
    {
     "data": {
      "text/plain": [
       "'football-players-detection-1/football-players-detection-1/valid'"
      ]
     },
     "execution_count": 13,
     "metadata": {},
     "output_type": "execute_result"
    }
   ],
   "source": [
    "import shutil\n",
    "shutil.move('football-players-detection-1/train',\n",
    "            'football-players-detection-1/football-players-detection-1/train')\n",
    "shutil.move('football-players-detection-1/test',\n",
    "            'football-players-detection-1/football-players-detection-1/test')\n",
    "shutil.move('football-players-detection-1/valid',\n",
    "            'football-players-detection-1/football-players-detection-1/valid')"
   ]
  },
  {
   "cell_type": "markdown",
   "metadata": {},
   "source": [
    "# Training"
   ]
  },
  {
   "cell_type": "code",
   "execution_count": null,
   "metadata": {},
   "outputs": [
    {
     "name": "stderr",
     "output_type": "stream",
     "text": [
      "PRO TIP  Replace 'model=yolov5x.pt' with new 'model=yolov5xu.pt'.\n",
      "YOLOv5 'u' models are trained with https://github.com/ultralytics/ultralytics and feature improved performance vs standard YOLOv5 models trained with https://github.com/ultralytics/yolov5.\n",
      "\n",
      "C:\\Users\\rapha\\AppData\\Local\\Programs\\Python\\Python310\\lib\\site-packages\\ultralytics\\nn\\tasks.py:332: FutureWarning: You are using `torch.load` with `weights_only=False` (the current default value), which uses the default pickle module implicitly. It is possible to construct malicious pickle data which will execute arbitrary code during unpickling (See https://github.com/pytorch/pytorch/blob/main/SECURITY.md#untrusted-models for more details). In a future release, the default value for `weights_only` will be flipped to `True`. This limits the functions that could be executed during unpickling. Arbitrary objects will no longer be allowed to be loaded via this mode unless they are explicitly allowlisted by the user via `torch.serialization.add_safe_globals`. We recommend you start setting `weights_only=True` for any use case where you don't have full control of the loaded file. Please open an issue on GitHub for any issues related to this experimental feature.\n",
      "  return torch.load(file, map_location='cpu')  # load\n",
      "Ultralytics YOLOv8.0.26  Python-3.10.9 torch-2.5.1+cpu CPU\n",
      "\u001b[34m\u001b[1myolo\\engine\\trainer: \u001b[0mtask=detect, mode=train, model=yolov5x.pt, data=f{dataset_location}\\\\data.yaml, epochs=100, patience=50, batch=16, imgsz=640, save=True, cache=False, device=None, workers=8, project=None, name=None, exist_ok=False, pretrained=False, optimizer=SGD, verbose=True, seed=0, deterministic=True, single_cls=False, image_weights=False, rect=False, cos_lr=False, close_mosaic=10, resume=False, overlap_mask=True, mask_ratio=4, dropout=0.0, val=True, save_json=False, save_hybrid=False, conf=None, iou=0.7, max_det=300, half=False, dnn=False, plots=True, source=None, show=False, save_txt=False, save_conf=False, save_crop=False, hide_labels=False, hide_conf=False, vid_stride=1, line_thickness=3, visualize=False, augment=False, agnostic_nms=False, classes=None, retina_masks=False, boxes=True, format=torchscript, keras=False, optimize=False, int8=False, dynamic=False, simplify=False, opset=None, workspace=4, nms=False, lr0=0.01, lrf=0.01, momentum=0.937, weight_decay=0.0005, warmup_epochs=3.0, warmup_momentum=0.8, warmup_bias_lr=0.1, box=7.5, cls=0.5, dfl=1.5, fl_gamma=0.0, label_smoothing=0.0, nbs=64, hsv_h=0.015, hsv_s=0.7, hsv_v=0.4, degrees=0.0, translate=0.1, scale=0.5, shear=0.0, perspective=0.0, flipud=0.0, fliplr=0.5, mosaic=1.0, mixup=0.0, copy_paste=0.0, cfg=None, v5loader=False, save_dir=C:\\Users\\rapha\\Desktop\\models-ML\\project-object-detection\\runs\\detect\\train3\n",
      "C:\\Users\\rapha\\AppData\\Local\\Programs\\Python\\Python310\\lib\\site-packages\\ultralytics\\yolo\\engine\\trainer.py:113: FutureWarning: `torch.cuda.amp.GradScaler(args...)` is deprecated. Please use `torch.amp.GradScaler('cuda', args...)` instead.\n",
      "  self.scaler = amp.GradScaler(enabled=self.amp)\n",
      "Traceback (most recent call last):\n",
      "  File \"C:\\Users\\rapha\\AppData\\Local\\Programs\\Python\\Python310\\lib\\runpy.py\", line 196, in _run_module_as_main\n",
      "    return _run_code(code, main_globals, None,\n",
      "  File \"C:\\Users\\rapha\\AppData\\Local\\Programs\\Python\\Python310\\lib\\runpy.py\", line 86, in _run_code\n",
      "    exec(code, run_globals)\n",
      "  File \"C:\\Users\\rapha\\AppData\\Local\\Programs\\Python\\Python310\\Scripts\\yolo.exe\\__main__.py\", line 7, in <module>\n",
      "    sys.exit(entrypoint())\n",
      "  File \"C:\\Users\\rapha\\AppData\\Local\\Programs\\Python\\Python310\\lib\\site-packages\\ultralytics\\yolo\\cfg\\__init__.py\", line 266, in entrypoint\n",
      "    getattr(model, mode)(**vars(cfg))\n",
      "  File \"C:\\Users\\rapha\\AppData\\Local\\Programs\\Python\\Python310\\lib\\site-packages\\ultralytics\\yolo\\engine\\model.py\", line 204, in train\n",
      "    self.trainer = self.TrainerClass(overrides=overrides)\n",
      "  File \"C:\\Users\\rapha\\AppData\\Local\\Programs\\Python\\Python310\\lib\\site-packages\\ultralytics\\yolo\\engine\\trainer.py\", line 121, in __init__\n",
      "    self.data = check_det_dataset(self.data)\n",
      "  File \"C:\\Users\\rapha\\AppData\\Local\\Programs\\Python\\Python310\\lib\\site-packages\\ultralytics\\yolo\\data\\utils.py\", line 190, in check_det_dataset\n",
      "    data = check_file(dataset)\n",
      "  File \"C:\\Users\\rapha\\AppData\\Local\\Programs\\Python\\Python310\\lib\\site-packages\\ultralytics\\yolo\\utils\\checks.py\", line 235, in check_file\n",
      "    raise FileNotFoundError(f\"'{file}' does not exist\")\n",
      "FileNotFoundError: 'f{dataset_location}\\\\data.yaml' does not exist\n",
      "Sentry is attempting to send 2 pending events\n",
      "Waiting up to 2 seconds\n",
      "Press Ctrl-Break to quit\n"
     ]
    }
   ],
   "source": [
    "!yolo task=detect mode=train model=yolov5x.pt data=f\"{dataset_location}\\\\data.yaml\" epochs=100 imgsz=640"
   ]
  },
  {
   "cell_type": "code",
   "execution_count": null,
   "metadata": {},
   "outputs": [],
   "source": []
  }
 ],
 "metadata": {
  "kernelspec": {
   "display_name": "Python 3",
   "language": "python",
   "name": "python3"
  },
  "language_info": {
   "codemirror_mode": {
    "name": "ipython",
    "version": 3
   },
   "file_extension": ".py",
   "mimetype": "text/x-python",
   "name": "python",
   "nbconvert_exporter": "python",
   "pygments_lexer": "ipython3",
   "version": "3.10.9"
  }
 },
 "nbformat": 4,
 "nbformat_minor": 2
}
